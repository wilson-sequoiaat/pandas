{
 "cells": [
  {
   "cell_type": "code",
   "execution_count": 11,
   "id": "8aed5041-0461-4c7f-afc7-ef8fb87e69ce",
   "metadata": {},
   "outputs": [],
   "source": [
    "import pandas as pd"
   ]
  },
  {
   "cell_type": "code",
   "execution_count": 12,
   "id": "ba16efd5-fe27-45e3-8cf9-ca1667b0e446",
   "metadata": {},
   "outputs": [],
   "source": [
    "dtype_spec = {\n",
    "    \"upc\": str\n",
    "}"
   ]
  },
  {
   "cell_type": "code",
   "execution_count": 13,
   "id": "945494e9-9f37-4c75-b61c-92272955cbb1",
   "metadata": {},
   "outputs": [],
   "source": [
    "df_prev = pd.read_csv(\"dump/label_insight_master_dump_preprocessed_2024-05-01_09-24-34.csv\", dtype=dtype_spec)"
   ]
  },
  {
   "cell_type": "code",
   "execution_count": 14,
   "id": "0ad14882-d50d-47be-b5af-879c3b639be9",
   "metadata": {},
   "outputs": [],
   "source": [
    "df_latest = pd.read_csv(\"dump/label_insight_master_dump_preprocessed_2024-05-31_15-17-22.csv\", dtype=dtype_spec)"
   ]
  },
  {
   "cell_type": "code",
   "execution_count": 15,
   "id": "5dc7c80c-b5ae-4a00-b720-2dc072b878cd",
   "metadata": {},
   "outputs": [
    {
     "data": {
      "text/plain": [
       "(1659, 25)"
      ]
     },
     "execution_count": 15,
     "metadata": {},
     "output_type": "execute_result"
    }
   ],
   "source": [
    "df_prev.shape"
   ]
  },
  {
   "cell_type": "code",
   "execution_count": 16,
   "id": "943af033-3a09-461f-822b-d45d1cc6bd1a",
   "metadata": {},
   "outputs": [
    {
     "data": {
      "text/plain": [
       "(55022, 25)"
      ]
     },
     "execution_count": 16,
     "metadata": {},
     "output_type": "execute_result"
    }
   ],
   "source": [
    "df_latest.shape"
   ]
  },
  {
   "cell_type": "code",
   "execution_count": 17,
   "id": "680b4dd2-66f6-45c4-ad1c-c0318289886f",
   "metadata": {},
   "outputs": [
    {
     "data": {
      "text/plain": [
       "Index(['upc', 'brand', 'subBrand', 'productTitle', 'productSize',\n",
       "       'unitsPerPack', 'variant', 'manufacturer', 'distributor', 'importer',\n",
       "       'sizes', 'warning', 'alcohol', 'partnerData', 'attributes',\n",
       "       'lastUpdatedTimestamp', 'categorization.productType',\n",
       "       'categorization.aisle', 'categorization.shelf',\n",
       "       'categorization.category', 'gtinFormats.gtin14', 'gtinFormats.gtin12',\n",
       "       'ingredients.declaration', 'ingredients.symbols',\n",
       "       'imageSection.images'],\n",
       "      dtype='object')"
      ]
     },
     "execution_count": 17,
     "metadata": {},
     "output_type": "execute_result"
    }
   ],
   "source": [
    "df_prev.columns"
   ]
  },
  {
   "cell_type": "code",
   "execution_count": null,
   "id": "a169c778-26ac-45ae-838d-d39fa6f83965",
   "metadata": {},
   "outputs": [],
   "source": []
  }
 ],
 "metadata": {
  "kernelspec": {
   "display_name": "Python 3 (ipykernel)",
   "language": "python",
   "name": "python3"
  },
  "language_info": {
   "codemirror_mode": {
    "name": "ipython",
    "version": 3
   },
   "file_extension": ".py",
   "mimetype": "text/x-python",
   "name": "python",
   "nbconvert_exporter": "python",
   "pygments_lexer": "ipython3",
   "version": "3.11.2"
  }
 },
 "nbformat": 4,
 "nbformat_minor": 5
}
