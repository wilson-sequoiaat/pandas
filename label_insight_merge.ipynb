{
 "cells": [
  {
   "cell_type": "code",
   "execution_count": 1,
   "id": "8aed5041-0461-4c7f-afc7-ef8fb87e69ce",
   "metadata": {},
   "outputs": [],
   "source": [
    "import pandas as pd"
   ]
  },
  {
   "cell_type": "code",
   "execution_count": 2,
   "id": "ba16efd5-fe27-45e3-8cf9-ca1667b0e446",
   "metadata": {},
   "outputs": [],
   "source": [
    "dtype_spec = {\n",
    "    \"upc\": str\n",
    "}"
   ]
  },
  {
   "cell_type": "code",
   "execution_count": 3,
   "id": "945494e9-9f37-4c75-b61c-92272955cbb1",
   "metadata": {},
   "outputs": [],
   "source": [
    "df_prev = pd.read_csv(\"dump/label_insight_master_dump_preprocessed_2024-05-01_09-24-34.csv\", dtype=dtype_spec)"
   ]
  },
  {
   "cell_type": "code",
   "execution_count": 5,
   "id": "0ad14882-d50d-47be-b5af-879c3b639be9",
   "metadata": {},
   "outputs": [],
   "source": [
    "df_latest = pd.read_csv(\"dump/label_insight_master_dump_preprocessed_2024-05-31_15-17-22.csv\", dtype=dtype_spec)"
   ]
  },
  {
   "cell_type": "code",
   "execution_count": 7,
   "id": "5dc7c80c-b5ae-4a00-b720-2dc072b878cd",
   "metadata": {},
   "outputs": [
    {
     "data": {
      "text/plain": [
       "(1659, 25)"
      ]
     },
     "execution_count": 7,
     "metadata": {},
     "output_type": "execute_result"
    }
   ],
   "source": [
    "df_prev.shape"
   ]
  },
  {
   "cell_type": "code",
   "execution_count": 8,
   "id": "943af033-3a09-461f-822b-d45d1cc6bd1a",
   "metadata": {},
   "outputs": [
    {
     "data": {
      "text/plain": [
       "(55022, 25)"
      ]
     },
     "execution_count": 8,
     "metadata": {},
     "output_type": "execute_result"
    }
   ],
   "source": [
    "df_latest.shape"
   ]
  },
  {
   "cell_type": "code",
   "execution_count": 9,
   "id": "680b4dd2-66f6-45c4-ad1c-c0318289886f",
   "metadata": {},
   "outputs": [
    {
     "data": {
      "text/plain": [
       "<bound method DataFrame.info of                upc             brand    subBrand  \\\n",
       "0     050428420539        CVS HEALTH         NaN   \n",
       "1     037000541301   KIWI BOTANICALS         NaN   \n",
       "2     020714157760          CLINIQUE         NaN   \n",
       "3     859975020120  ANDALOU NATURALS  1000 ROSES   \n",
       "4     075450287028        BELLISSIMA         NaN   \n",
       "...            ...               ...         ...   \n",
       "1654  724742009489     ALBA BOTANICA         NaN   \n",
       "1655  075724471085   CREME OF NATURE         NaN   \n",
       "1656  818938013166            MATRIX         NaN   \n",
       "1657  038276006839          LUSTER'S        PINK   \n",
       "1658  187132005704     EVERYDAY SHEA         NaN   \n",
       "\n",
       "                                           productTitle        productSize  \\\n",
       "0                                   REPAIRING EYE CREAM                NaN   \n",
       "1               BRIGHTENING EYE CREAM WITH MANUKA HONEY                NaN   \n",
       "2                                        ALL ABOUT EYES        5 OZ./15 ml   \n",
       "3                                EYE REVIVE CONTOUR GEL                NaN   \n",
       "4                                     FIRMING EYE CREAM   30 ml/1.01 fl oz   \n",
       "...                                                 ...                ...   \n",
       "1654  HAWAIIAN DETOX DAILY CLARIFYING VOLCANIC CLAY ...  355 ml e 12 fl oz   \n",
       "1655            PLEX BREAKAGE DEFENSE RESTORING SHAMPOO  12 Fl. Oz. 354 mL   \n",
       "1656                                  COLORLAST SHAMPOO                NaN   \n",
       "1657  KIDS AWESOME NOURISHING CONDITIONER, COCONUT O...                NaN   \n",
       "1658                              EVERYDAY SHEA SHAMPOO                NaN   \n",
       "\n",
       "      unitsPerPack   variant                    manufacturer  \\\n",
       "0              NaN       NaN                             NaN   \n",
       "1              NaN       NaN                             NaN   \n",
       "2              NaN       NaN                             NaN   \n",
       "3              NaN       NaN                             NaN   \n",
       "4              NaN       NaN                             NaN   \n",
       "...            ...       ...                             ...   \n",
       "1654           NaN       NaN  The Hain Celestial Group, Inc.   \n",
       "1655           NaN       NaN                             NaN   \n",
       "1656           NaN       NaN                             NaN   \n",
       "1657           NaN       NaN                             NaN   \n",
       "1658           NaN  LAVENDER                             NaN   \n",
       "\n",
       "                    distributor importer  ...         lastUpdatedTimestamp  \\\n",
       "0            CVS PHARMACY, INC.      NaN  ...  2024-04-22T11:45:19.142734Z   \n",
       "1             PROCTER & GAMBLE,      NaN  ...  2024-04-22T12:26:57.814471Z   \n",
       "2         CLINIQUE LABORATORIES      NaN  ...  2024-04-22T11:24:26.447341Z   \n",
       "3                           NaN      NaN  ...  2024-04-22T18:19:19.444105Z   \n",
       "4                           NaN      NaN  ...  2024-04-22T11:55:08.702266Z   \n",
       "...                         ...      ...  ...                          ...   \n",
       "1654                        NaN      NaN  ...  2024-04-22T12:29:19.765085Z   \n",
       "1655  Beautyge Brands USA, Inc.      NaN  ...  2024-04-22T11:58:03.349713Z   \n",
       "1656                        NaN      NaN  ...  2024-04-18T14:56:22.827366Z   \n",
       "1657                        NaN      NaN  ...  2024-04-22T11:38:25.489259Z   \n",
       "1658                        NaN      NaN  ...  2024-04-18T14:29:10.826409Z   \n",
       "\n",
       "     categorization.productType  categorization.aisle    categorization.shelf  \\\n",
       "0                 Personal Care             COSMETICS   Eye Area Preparations   \n",
       "1                 Personal Care             COSMETICS   Eye Area Preparations   \n",
       "2                 Personal Care             COSMETICS   Eye Area Preparations   \n",
       "3                 Personal Care             COSMETICS   Eye Area Preparations   \n",
       "4                 Personal Care             COSMETICS   Eye Area Preparations   \n",
       "...                         ...                   ...                     ...   \n",
       "1654              Personal Care             COSMETICS  Hair Care Preparations   \n",
       "1655              Personal Care             COSMETICS  Hair Care Preparations   \n",
       "1656              Personal Care             COSMETICS  Hair Care Preparations   \n",
       "1657              Personal Care             COSMETICS  Hair Care Preparations   \n",
       "1658              Personal Care             COSMETICS  Hair Care Preparations   \n",
       "\n",
       "                                categorization.category gtinFormats.gtin14  \\\n",
       "0                          Eye Lotions, Gels and Creams        50428420539   \n",
       "1                          Eye Lotions, Gels and Creams        37000541301   \n",
       "2                          Eye Lotions, Gels and Creams        20714157760   \n",
       "3                          Eye Lotions, Gels and Creams       859975020120   \n",
       "4                          Eye Lotions, Gels and Creams        75450287028   \n",
       "...                                                 ...                ...   \n",
       "1654  Shampoos (Including 2 in 1 Shampoo and Conditi...       724742009489   \n",
       "1655  Shampoos (Including 2 in 1 Shampoo and Conditi...        75724471085   \n",
       "1656  Shampoos (Including 2 in 1 Shampoo and Conditi...       818938013166   \n",
       "1657  Shampoos (Including 2 in 1 Shampoo and Conditi...        38276006839   \n",
       "1658  Shampoos (Including 2 in 1 Shampoo and Conditi...       187132005704   \n",
       "\n",
       "     gtinFormats.gtin12                            ingredients.declaration  \\\n",
       "0          5.042842e+10  WATER, NIACINAMIDE, CETYL ALCOHOL, CAPRYLIC/ C...   \n",
       "1          3.700054e+10  INGREDIENTS: WATER, PETROLATUM, ISOPROPYL ISOS...   \n",
       "2          2.071416e+10  CYCLOPENTASILOXANE, WATER\\AQUA\\EAU, ISOSTEARYL...   \n",
       "3          8.599750e+11  ALOE BARBADENSIS JUICE*, VEGETABLE GLYCERIN, L...   \n",
       "4          7.545029e+10  Water, Caprylic/Capric Triglyceride, Propanedi...   \n",
       "...                 ...                                                ...   \n",
       "1654       7.247420e+11  Aqua (Water), Aloe Barbadensis Leaf Juice(1), ...   \n",
       "1655       7.572447e+10  Aqua/Water/Eau, Sodium Laureth Sulfate, Cocami...   \n",
       "1656       8.189380e+11  1082846MX-INGREDIENTS:AQUA / WATER / EAU, SODI...   \n",
       "1657       3.827601e+10  Aqua (Deionized Water), Glycerin, Glycine Soja...   \n",
       "1658       1.871320e+11  BUTYROSPERMUM PARKII (SHEA) LEAF* AQUEOUS EXTR...   \n",
       "\n",
       "                                    ingredients.symbols  \\\n",
       "0                                                   NaN   \n",
       "1                                                   NaN   \n",
       "2                                                   NaN   \n",
       "3                 '* CERTIFIED ORGANIC', '† FAIR TRADE'   \n",
       "4                                                   NaN   \n",
       "...                                                 ...   \n",
       "1654                 '(1) Certified Organic Ingredient'   \n",
       "1655                                                NaN   \n",
       "1656                                                NaN   \n",
       "1657                                                NaN   \n",
       "1658  '* CERTIFIED FAIR FOR LIFE-SOCIAL AND FAIR TRA...   \n",
       "\n",
       "                                    imageSection.images  \n",
       "0                                                    []  \n",
       "1                                                    []  \n",
       "2     [{'format': 'JPG', 'colorSpace': 'SRGB', 'url'...  \n",
       "3                                                    []  \n",
       "4                                                    []  \n",
       "...                                                 ...  \n",
       "1654  [{'format': 'JPG', 'colorSpace': 'SRGB', 'url'...  \n",
       "1655                                                 []  \n",
       "1656                                                 []  \n",
       "1657  [{'format': 'JPG', 'colorSpace': 'SRGB', 'url'...  \n",
       "1658  [{'format': 'JPG', 'colorSpace': 'SRGB', 'url'...  \n",
       "\n",
       "[1659 rows x 25 columns]>"
      ]
     },
     "execution_count": 9,
     "metadata": {},
     "output_type": "execute_result"
    }
   ],
   "source": [
    "df_prev.info"
   ]
  },
  {
   "cell_type": "code",
   "execution_count": null,
   "id": "a169c778-26ac-45ae-838d-d39fa6f83965",
   "metadata": {},
   "outputs": [],
   "source": []
  }
 ],
 "metadata": {
  "kernelspec": {
   "display_name": "Python 3 (ipykernel)",
   "language": "python",
   "name": "python3"
  },
  "language_info": {
   "codemirror_mode": {
    "name": "ipython",
    "version": 3
   },
   "file_extension": ".py",
   "mimetype": "text/x-python",
   "name": "python",
   "nbconvert_exporter": "python",
   "pygments_lexer": "ipython3",
   "version": "3.12.2"
  }
 },
 "nbformat": 4,
 "nbformat_minor": 5
}
